{
 "cells": [
  {
   "cell_type": "code",
   "execution_count": 2,
   "metadata": {},
   "outputs": [],
   "source": [
    "import matplotlib.pyplot as plt\n",
    "import numpy as np\n",
    "import tensorflow as tf\n",
    "import pandas as pd\n",
    "import seaborn as sns\n",
    "import os"
   ]
  },
  {
   "cell_type": "markdown",
   "metadata": {},
   "source": [
    "# Important Variables"
   ]
  },
  {
   "cell_type": "code",
   "execution_count": 3,
   "metadata": {},
   "outputs": [],
   "source": [
    "image_size = (512, 512)\n",
    "batch_size = 16\n",
    "input_shape = image_size + (3,)\n",
    "learning_rate = 1e-4\n",
    "seed = 1337\n",
    "validation_split = 0.2\n",
    "epochs = 10\n",
    "\n",
    "base_model = tf.keras.applications.ResNet50V2(\n",
    "    include_top=False,\n",
    "    weights=\"imagenet\",\n",
    "    input_tensor=None,\n",
    "    input_shape=input_shape,\n",
    "    pooling=None,\n",
    "    classes=5,\n",
    ")"
   ]
  },
  {
   "cell_type": "code",
   "execution_count": null,
   "metadata": {},
   "outputs": [],
   "source": [
    "from data_loader import load_data\n",
    "\n",
    "train_ds, val_ds = load_data(image_size, batch_size, seed=seed, validation_split=validation_split)"
   ]
  },
  {
   "cell_type": "code",
   "execution_count": null,
   "metadata": {},
   "outputs": [],
   "source": [
    "import tensorflow as tf\n",
    "\n",
    "head_model = base_model.output\n",
    "head_model = tf.keras.layers.GlobalAveragePooling2D()(head_model)\n",
    "head_model = tf.keras.layers.Dense(5, activation=\"softmax\")(head_model)\n",
    "model = tf.keras.Model(inputs=base_model.input, outputs=head_model)\n",
    "\n",
    "model.compile(\n",
    "    optimizer=tf.keras.optimizers.Adam(learning_rate=learning_rate),\n",
    "    loss=tf.keras.losses.CategoricalCrossentropy(),\n",
    "    metrics=['accuracy']\n",
    ")"
   ]
  },
  {
   "cell_type": "markdown",
   "metadata": {},
   "source": [
    "# Model Fitting\n",
    "The output of this is saved as 'runtime.txt'"
   ]
  },
  {
   "cell_type": "code",
   "execution_count": null,
   "metadata": {},
   "outputs": [],
   "source": [
    "import datetime\n",
    "import io\n",
    "import os\n",
    "import sys\n",
    "import shutil\n",
    "from tensorflow.keras.callbacks import Callback\n",
    "\n",
    "\n",
    "model_id = base_model.name + '_' + datetime.datetime.now().strftime(\"%Y%m%d-%H%M%S\")\n",
    "log_dir = f\"../records/{model_id}/logs\"\n",
    "\n",
    "array = []\n",
    "class FinalEpochLogger(Callback):\n",
    "    def __init__(self):\n",
    "        super(FinalEpochLogger, self).__init__()\n",
    "\n",
    "    def on_epoch_end(self, epoch, logs=None):\n",
    "        # Store the output of the final epoch\n",
    "        array.append(f\"Epoch {epoch+1}: {logs}\\n\") # CLARIISE IM SO SORRY APPEND PALA SIYAA HINDI PUSH\n",
    "\n",
    "final_epoch_logger = FinalEpochLogger()\n",
    "history = model.fit(train_ds, epochs=epochs, validation_data=val_ds, callbacks=[\n",
    "    tf.keras.callbacks.TensorBoard(log_dir=log_dir, histogram_freq=1),\n",
    "    final_epoch_logger\n",
    "                                                                                ])\n",
    "\n",
    "# Save the model\n",
    "os.makedirs(f\"/mnt/c/Users/Ann Clarisse Salazar/Documents/project/records/{model_id}\", exist_ok=True)\n",
    "model.save(f'/mnt/c/Users/Ann Clarisse Salazar/Documents/project/records/{model_id}/model_{model_id}.keras')"
   ]
  },
  {
   "cell_type": "markdown",
   "metadata": {},
   "source": [
    "# Experiment Summary\n",
    "This outputs details of the run to 'info.txt'. This includes the summary of the model's architecture, number of epochs, learning rate, etc.\n",
    "\n",
    "If notes about this experiment are needed, feel free to add them to the corresponding cell."
   ]
  },
  {
   "cell_type": "code",
   "execution_count": 9,
   "metadata": {},
   "outputs": [],
   "source": [
    "note = \"\""
   ]
  },
  {
   "cell_type": "code",
   "execution_count": 10,
   "metadata": {},
   "outputs": [],
   "source": [
    "import io\n",
    "import sys\n",
    "\n",
    "output_capture = io.StringIO()\n",
    "\n",
    "sys.stdout = output_capture\n",
    "\n",
    "print(note + \"\\n\\n\")\n",
    "\n",
    "# print training info\n",
    "for element in array:\n",
    "    print(element)\n",
    "\n",
    "print(\"\\n\\n\")\n",
    "\n",
    "# print model info\n",
    "print(\"HYPERPARAMETERS\")\n",
    "print(f\"Model Name: {base_model.name}\")\n",
    "print(f\"Epochs: {epochs}\")\n",
    "print(f\"Batch Size: {batch_size}\")\n",
    "print(f\"Image Size: {image_size}\")\n",
    "print(f\"Seed: {seed}\")\n",
    "print(f\"Validation Split: {validation_split}\")\n",
    "print(f\"Learning Rate: {learning_rate}\")\n",
    "\n",
    "# print model architecture information\n",
    "print(\"\\n\\nSUMMARY\")\n",
    "model.summary()\n",
    "\n",
    "# Reset stdout to its original value\n",
    "sys.stdout = sys.__stdout__\n",
    "\n",
    "# Get the captured output\n",
    "captured_output = output_capture.getvalue()\n",
    "\n",
    "\n",
    "# Define the file path\n",
    "file_path = f'/mnt/c/Users/Ann Clarisse Salazar/Documents/project/records/{model_id}/info.txt'\n",
    "\n",
    "# Ensure the directory exists\n",
    "os.makedirs(os.path.dirname(file_path), exist_ok=True)\n",
    "\n",
    "# save to info.txt\n",
    "with open(f\"/mnt/c/Users/Ann Clarisse Salazar/Documents/project/records/{model_id}/info.txt\", 'w') as file:\n",
    "    file.write(captured_output)"
   ]
  },
  {
   "cell_type": "code",
   "execution_count": null,
   "metadata": {},
   "outputs": [],
   "source": []
  }
 ],
 "metadata": {
  "kernelspec": {
   "display_name": ".venv",
   "language": "python",
   "name": "python3"
  },
  "language_info": {
   "codemirror_mode": {
    "name": "ipython",
    "version": 3
   },
   "file_extension": ".py",
   "mimetype": "text/x-python",
   "name": "python",
   "nbconvert_exporter": "python",
   "pygments_lexer": "ipython3",
   "version": "3.12.7"
  }
 },
 "nbformat": 4,
 "nbformat_minor": 2
}
