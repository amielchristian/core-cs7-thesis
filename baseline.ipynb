{
 "cells": [
  {
   "cell_type": "code",
   "execution_count": 1,
   "metadata": {},
   "outputs": [],
   "source": [
    "import tensorflow as tf\n",
    "from load_data import load_data\n",
    "from vit_keras import vit\n",
    "\n",
    "train_ds, val_ds = load_data()\n",
    "model = vit.vit_b32(\n",
    "    weights='imagenet21k',\n",
    "    image_size = 384,\n",
    "    pretrained=True,\n",
    "    pretrained_top=False,\n",
    "    classes=5\n",
    "    )\n",
    "model.summary()\n",
    "model.compile(\n",
    "    optimizer=tf.keras.optimizers.Adam(learning_rate=2e-4),\n",
    "    loss=tf.keras.losses.CategoricalCrossentropy(),\n",
    "    loss_weights=[1.0, 1.0, 1.0, 2.0, 2.0],\n",
    "    metrics=['accuracy']\n",
    "    )\n",
    "model.fit(train_ds, validation_data=val_ds, epochs=10)\n",
    "model.save('baseline.keras')"
   ]
  }
 ],
 "metadata": {
  "kernelspec": {
   "display_name": "Python 3",
   "language": "python",
   "name": "python3"
  },
  "language_info": {
   "codemirror_mode": {
    "name": "ipython",
    "version": 3
   },
   "file_extension": ".py",
   "mimetype": "text/x-python",
   "name": "python",
   "nbconvert_exporter": "python",
   "pygments_lexer": "ipython3",
   "version": "3.10.12"
  }
 },
 "nbformat": 4,
 "nbformat_minor": 2
}
